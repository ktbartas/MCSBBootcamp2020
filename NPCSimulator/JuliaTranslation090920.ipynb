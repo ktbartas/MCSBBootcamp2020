{
 "cells": [
  {
   "cell_type": "code",
   "execution_count": 4,
   "metadata": {},
   "outputs": [
    {
     "name": "stdout",
     "output_type": "stream",
     "text": [
      "[-5.0 0.0]1.0e6"
     ]
    }
   ],
   "source": [
    "# Jun Allard jun.allard@uci.edu\n",
    "# Simulate a transcription factor diffusing inside the cytoplasm, searching\n",
    "# for a nuclear pore complex\n",
    "\n",
    "# numerical parameters\n",
    "dt = 0.001  # s\n",
    "ntmax = 1e6 \n",
    "\n",
    "NSample = 2000  # number of samples\n",
    "\n",
    "# model parameters\n",
    "D = 10  #microns^2/second\n",
    "L = 10  # microns\n",
    "NPCSize = 0.1  # microns\n",
    "NPCLocation = [-L/2 0] \n",
    "print(NPCLocation)\n",
    "alpha = sqrt(2*D*dt) \n",
    "print(ntmax)\n",
    "# data collection\n",
    "tCapture = zeros(NSample,1) ;\n"
   ]
  },
  {
   "cell_type": "code",
   "execution_count": 5,
   "metadata": {},
   "outputs": [
    {
     "data": {
      "image/png": "[encoded data removed]",
      "text/plain": [
       "Figure(PyObject <Figure size 640x480 with 1 Axes>)"
      ]
     },
     "metadata": {},
     "output_type": "display_data"
    }
   ],
   "source": [
    "using PyPlot\n",
    "# set up figure\n",
    "figure(1)  \n",
    "#clf  \n",
    "#hold on  \n",
    "PyPlot.clf()\n",
    "#box on \n",
    "#set(gca,'xlim', [-L/2,L/2],'ylim',[-L/2,L/2]) \n",
    "plt.plot(NPCLocation[1], NPCLocation[2], \"o\", color = \"red\")#,'or','markerfacecolor','r','markersize',10) \n",
    "xlabel(\"x in um\")  \n",
    "ylabel(\"y in um\")\n",
    "xlim([-L/2, L/2])\n",
    "ylim([-L/2, L/2]);"
   ]
  },
  {
   "cell_type": "code",
   "execution_count": 15,
   "metadata": {
    "scrolled": true
   },
   "outputs": [
    {
     "data": {
      "image/png": "[encoded data removed]",
      "text/plain": [
       "Figure(PyObject <Figure size 640x480 with 1 Axes>)"
      ]
     },
     "metadata": {},
     "output_type": "display_data"
    },
    {
     "name": "stdout",
     "output_type": "stream",
     "text": [
      " 26.807022 seconds (777.75 M allocations: 19.018 GiB, 7.39% gc time)\n"
     ]
    }
   ],
   "source": [
    "\n",
    "## Simulate!\n",
    "@time begin\n",
    "#tic;\n",
    "\n",
    "#parfor iSample=1:NSample\n",
    "for iSample in 1:NSample\n",
    "    \n",
    "    # intial condition\n",
    "    x = [L/2 0];\n",
    "    \n",
    "    t = 0;\n",
    "    for nt in 1:ntmax\n",
    "        \n",
    "        # dynamics\n",
    "        x = x + alpha*randn(1,2);\n",
    "        \n",
    "        # boundaries\n",
    "        if x[1]>L/2\n",
    "            x[1]=L/2;\n",
    "        elseif x[1]<-L/2\n",
    "            x[1]=-L/2;\n",
    "        end\n",
    "        \n",
    "        if x[2]>L/2\n",
    "            x[2]=L/2;\n",
    "        elseif x[2]<-L/2\n",
    "            x[2]=-L/2;\n",
    "        end\n",
    "        \n",
    "        # test for NPC capture\n",
    "        if ( (x[1]-NPCLocation[1])^2 + (x[2]-NPCLocation[2])^2 < NPCSize^2 )\n",
    "            tCapture[iSample] = t;\n",
    "            break;\n",
    "        end\n",
    "        \n",
    "        if 0 > 1 # visualize\n",
    "            figure(1);\n",
    "            plt.plot(x[1],x[2],\"-ob\");\n",
    "            #drawnow;\n",
    "        end # finished visualization\n",
    "        \n",
    "        t = t+dt;\n",
    "        \n",
    "    end # finished loop through time\n",
    "        \n",
    "end # finished loop through samples\n",
    "\n",
    "#toc # report the time\n",
    "\n",
    "## analyze results\n",
    "\n",
    "figure(2); \n",
    "PyPlot.clf()\n",
    "#hold on; \n",
    "#box on;\n",
    "plt.hist(tCapture,50)\n",
    "yscale(\"log\")\n",
    "#set(gca,\"yscale\",\"log\");\n",
    "end"
   ]
  },
  {
   "cell_type": "code",
   "execution_count": null,
   "metadata": {},
   "outputs": [],
   "source": []
  },
  {
   "cell_type": "code",
   "execution_count": null,
   "metadata": {},
   "outputs": [],
   "source": []
  }
 ],
 "metadata": {
  "kernelspec": {
   "display_name": "Julia 1.5.1",
   "language": "julia",
   "name": "julia-1.5"
  },
  "language_info": {
   "file_extension": ".jl",
   "mimetype": "application/julia",
   "name": "julia",
   "version": "1.5.1"
  }
 },
 "nbformat": 4,
 "nbformat_minor": 4
}
